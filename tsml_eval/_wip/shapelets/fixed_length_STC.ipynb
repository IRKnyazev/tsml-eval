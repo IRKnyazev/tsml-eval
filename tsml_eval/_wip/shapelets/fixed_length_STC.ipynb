{
 "cells": [
  {
   "cell_type": "code",
   "execution_count": 1,
   "metadata": {},
   "outputs": [
    {
     "name": "stderr",
     "output_type": "stream",
     "text": [
      "c:\\ProgramData\\miniconda3\\envs\\tsml-eval\\Lib\\site-packages\\aeon\\base\\__init__.py:24: FutureWarning: The aeon package will soon be releasing v1.0.0 with the removal of legacy modules and interfaces such as BaseTransformer and BaseForecaster. This will contain breaking changes. See aeon-toolkit.org for more information. Set aeon.AEON_DEPRECATION_WARNING or the AEON_DEPRECATION_WARNING environmental variable to 'False' to disable this warning.\n",
      "  warnings.warn(\n"
     ]
    }
   ],
   "source": [
    "from tsml.datasets import load_minimal_chinatown\n",
    "from tsml_eval._wip.shapelets.transformations.collection.shapelet_based._dilated_shapelet_transform import RandomDilatedShapeletTransform\n",
    "from tsml_eval._wip.shapelets.classification.shapelet_based._dstc import DilatedShapeletTransformClassifier\n",
    "from tsml_eval._wip.shapelets.transformations.collection.shapelet_based._shapelet_transform import RandomShapeletTransform\n",
    "from tsml_eval._wip.shapelets.classification.shapelet_based._stc import ShapeletTransformClassifier"
   ]
  },
  {
   "cell_type": "code",
   "execution_count": 2,
   "metadata": {},
   "outputs": [],
   "source": [
    "X_train, y_train = load_minimal_chinatown(split=\"TRAIN\")\n",
    "X_test, y_test = load_minimal_chinatown(split=\"TEST\")"
   ]
  },
  {
   "cell_type": "code",
   "execution_count": 3,
   "metadata": {},
   "outputs": [],
   "source": [
    "flst = RandomDilatedShapeletTransform()\n",
    "flstc = DilatedShapeletTransformClassifier().fit(X_train,y_train)"
   ]
  },
  {
   "cell_type": "code",
   "execution_count": 4,
   "metadata": {},
   "outputs": [
    {
     "data": {
      "text/plain": [
       "array([1., 1., 1., 1., 1., 1., 1., 1., 1., 1., 2., 2., 2., 2., 2., 1., 2.,\n",
       "       2., 2., 2.])"
      ]
     },
     "execution_count": 4,
     "metadata": {},
     "output_type": "execute_result"
    }
   ],
   "source": [
    "flstc.fit_predict(X_train,y_train)"
   ]
  },
  {
   "cell_type": "code",
   "execution_count": 5,
   "metadata": {},
   "outputs": [
    {
     "data": {
      "text/plain": [
       "27"
      ]
     },
     "execution_count": 5,
     "metadata": {},
     "output_type": "execute_result"
    }
   ],
   "source": [
    "len(flstc._transformer.shapelets)"
   ]
  },
  {
   "cell_type": "code",
   "execution_count": 6,
   "metadata": {},
   "outputs": [
    {
     "data": {
      "text/plain": [
       "(1.0,\n",
       " 7,\n",
       " 4,\n",
       " 1,\n",
       " 0,\n",
       " 17,\n",
       " 2.0,\n",
       " array([-0.95706786, -0.93853543, -0.84587325, -0.37329618,  0.54405932,\n",
       "         0.67378636,  1.89692703]))"
      ]
     },
     "execution_count": 6,
     "metadata": {},
     "output_type": "execute_result"
    }
   ],
   "source": [
    "flstc._transformer.shapelets[0]\n",
    "# s[0],  shapelet quality \n",
    "# s[1],  shapelet length\n",
    "# s[2],  start pos\n",
    "# s[3],  dilation\n",
    "# s[4],  channel\n",
    "# s[5],  source time series index\n",
    "# self.classes_[s[6]], # class val\n",
    "# z_normalise_series(X[s[5]][s[4]][s[2] : s[2] + s[1]]),"
   ]
  },
  {
   "cell_type": "code",
   "execution_count": 7,
   "metadata": {},
   "outputs": [],
   "source": [
    "flstcc = DilatedShapeletTransformClassifier(length_selector=\"FIXED\").fit(X_train,y_train)"
   ]
  }
 ],
 "metadata": {
  "kernelspec": {
   "display_name": "tsml-eval",
   "language": "python",
   "name": "python3"
  },
  "language_info": {
   "codemirror_mode": {
    "name": "ipython",
    "version": 3
   },
   "file_extension": ".py",
   "mimetype": "text/x-python",
   "name": "python",
   "nbconvert_exporter": "python",
   "pygments_lexer": "ipython3",
   "version": "3.12.4"
  }
 },
 "nbformat": 4,
 "nbformat_minor": 2
}
